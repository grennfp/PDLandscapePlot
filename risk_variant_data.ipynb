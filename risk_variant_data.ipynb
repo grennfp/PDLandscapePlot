{
 "cells": [
  {
   "cell_type": "markdown",
   "metadata": {},
   "source": [
    "# PD Genetic Landscape Plot Data Processing\n",
    "- **Author** - Frank Grenn\n",
    "- **Date Started** - November 2020\n",
    "- **Quick Description:** code to get statistics for plot"
   ]
  },
  {
   "cell_type": "code",
   "execution_count": null,
   "metadata": {},
   "outputs": [],
   "source": [
    "import pandas as pd\n",
    "import numpy as np"
   ]
  },
  {
   "cell_type": "code",
   "execution_count": null,
   "metadata": {},
   "outputs": [],
   "source": [
    "DATADIR='/path/to/data'"
   ]
  },
  {
   "cell_type": "markdown",
   "metadata": {},
   "source": [
    "## 1) Get List of Risk Variants\n",
    "may need to modify code depending on input files"
   ]
  },
  {
   "cell_type": "code",
   "execution_count": null,
   "metadata": {},
   "outputs": [],
   "source": [
    "risk_vars = pd.DataFrame()"
   ]
  },
  {
   "cell_type": "markdown",
   "metadata": {},
   "source": [
    "### a) Nalls et al. 2019"
   ]
  },
  {
   "cell_type": "code",
   "execution_count": null,
   "metadata": {},
   "outputs": [],
   "source": [
    "meta5_loci = pd.read_csv(f\"{DATADIR}/META5Loci.csv\")\n",
    "meta5_loci['GWAS']='META5'\n",
    "meta5_loci['EFFECT_FREQ_NALLS']=meta5_loci['EFFECT_FREQ']\n",
    "meta5_loci['BETA_NALLS']=meta5_loci['BETA']\n",
    "meta5_loci['P_NALLS']=meta5_loci['P']\n",
    "meta5_loci = meta5_loci[['RSID','LOC_NUM','CHR_BP','NEAR_GENE','GWAS','REF','ALT','EFFECT_ALLELE','OTHER_ALLELE','EFFECT_FREQ_NALLS','BETA_NALLS','P_NALLS']]\n",
    "print(meta5_loci.shape)\n",
    "print(meta5_loci.head())"
   ]
  },
  {
   "cell_type": "markdown",
   "metadata": {},
   "source": [
    "### b) Iwaki et al. 2019"
   ]
  },
  {
   "cell_type": "code",
   "execution_count": null,
   "metadata": {},
   "outputs": [],
   "source": [
    "prog_loci = pd.read_csv(f\"{DATADIR}/ProgressionLoci.csv\")\n",
    "prog_loci['GWAS']='Progression'\n",
    "prog_loci['EFFECT_ALLELE']=prog_loci['ALT']\n",
    "prog_loci['OTHER_ALLELE']=prog_loci['REF']\n",
    "prog_loci = prog_loci.rename(columns={\"MAF\": \"FREQ\"})\n",
    "prog_loci['EFFECT_FREQ_IWAKI']=prog_loci['FREQ']\n",
    "prog_loci['BETA_IWAKI']=prog_loci['BETA']\n",
    "prog_loci['P_IWAKI']=prog_loci['P']\n",
    "prog_loci = prog_loci[['RSID','LOC_NUM','CHR_BP','NEAR_GENE','GWAS','REF','ALT','EFFECT_ALLELE','OTHER_ALLELE','EFFECT_FREQ_IWAKI','BETA_IWAKI','P_IWAKI']]\n",
    "\n",
    "print(prog_loci.shape)\n",
    "print(prog_loci.head())"
   ]
  },
  {
   "cell_type": "markdown",
   "metadata": {},
   "source": [
    "### c) Foo et al. 2020"
   ]
  },
  {
   "cell_type": "code",
   "execution_count": null,
   "metadata": {},
   "outputs": [],
   "source": [
    "asian_loci = pd.read_csv(f\"{DATADIR}/AsianLoci.csv\")\n",
    "asian_loci['GWAS']='Asian'\n",
    "asian_loci['EFFECT_ALLELE']=asian_loci['ALT']\n",
    "asian_loci['OTHER_ALLELE']=asian_loci['REF']\n",
    "asian_loci = asian_loci.rename(columns={\"MAF\": \"FREQ\"})\n",
    "asian_loci['EFFECT_FREQ_FOO']=asian_loci['FREQ']\n",
    "asian_loci['BETA_FOO']=asian_loci['BETA']\n",
    "asian_loci['P_FOO']=asian_loci['P']\n",
    "asian_loci = asian_loci[['RSID','LOC_NUM','CHR_BP','NEAR_GENE','GWAS','REF','ALT','EFFECT_ALLELE','OTHER_ALLELE','EFFECT_FREQ_FOO','BETA_FOO','P_FOO']]\n",
    "print(asian_loci.shape)\n",
    "print(asian_loci.head())"
   ]
  },
  {
   "cell_type": "markdown",
   "metadata": {},
   "source": [
    "combine all variants into one df"
   ]
  },
  {
   "cell_type": "code",
   "execution_count": null,
   "metadata": {},
   "outputs": [],
   "source": [
    "risk_vars = meta5_loci.append(prog_loci).append(asian_loci)\n",
    "print(risk_vars.shape)\n",
    "print(risk_vars.head())"
   ]
  },
  {
   "cell_type": "code",
   "execution_count": null,
   "metadata": {},
   "outputs": [],
   "source": [
    "risk_vars.tail()"
   ]
  },
  {
   "cell_type": "markdown",
   "metadata": {},
   "source": [
    "## 2) Get Effect Sizes (Beta/Odds Ratio), Frequencies, and P values from GWASes\n",
    "do this for the full list of risk variants. \n",
    "\n",
    "also check we are using statistics for the correct allele"
   ]
  },
  {
   "cell_type": "markdown",
   "metadata": {},
   "source": [
    "### a) Nalls et al. 2019"
   ]
  },
  {
   "cell_type": "code",
   "execution_count": null,
   "metadata": {},
   "outputs": [],
   "source": [
    "meta5_gwas = pd.read_csv(f\"{DATADIR}/meta5_sumstats_harmonized.csv\")\n",
    "print(meta5_gwas.shape)\n",
    "print(meta5_gwas.head())"
   ]
  },
  {
   "cell_type": "code",
   "execution_count": null,
   "metadata": {},
   "outputs": [],
   "source": [
    "meta5_gwas_sub = meta5_gwas[['RSID','REF','ALT','A1','A2','BETA','FREQ','P']]"
   ]
  },
  {
   "cell_type": "code",
   "execution_count": null,
   "metadata": {},
   "outputs": [],
   "source": [
    "merge_meta5_gwas = pd.merge(risk_vars, meta5_gwas_sub, how='left', left_on='RSID', right_on='RSID')\n",
    "print(merge_meta5_gwas.shape)\n",
    "print(merge_meta5_gwas.tail())"
   ]
  },
  {
   "cell_type": "code",
   "execution_count": null,
   "metadata": {},
   "outputs": [],
   "source": [
    "print(merge_meta5_gwas.head())"
   ]
  },
  {
   "cell_type": "markdown",
   "metadata": {},
   "source": [
    "#### now check for the right allele\n",
    "looks like EFFECT_ALLELE should match A1"
   ]
  },
  {
   "cell_type": "code",
   "execution_count": null,
   "metadata": {},
   "outputs": [],
   "source": [
    "meta5_gwas_match=merge_meta5_gwas[merge_meta5_gwas['EFFECT_ALLELE']==merge_meta5_gwas['A1']]\n",
    "print(meta5_gwas_match.shape)\n",
    "print(meta5_gwas_match.head())"
   ]
  },
  {
   "cell_type": "code",
   "execution_count": null,
   "metadata": {},
   "outputs": [],
   "source": [
    "meta5_gwas_mismatch=merge_meta5_gwas[merge_meta5_gwas['EFFECT_ALLELE']!=merge_meta5_gwas['A1']]\n",
    "print(meta5_gwas_mismatch.shape)\n",
    "print(meta5_gwas_mismatch.tail())"
   ]
  },
  {
   "cell_type": "markdown",
   "metadata": {},
   "source": [
    "adjust the effect size and frequency for the mismatched variants"
   ]
  },
  {
   "cell_type": "code",
   "execution_count": null,
   "metadata": {},
   "outputs": [],
   "source": [
    "meta5_gwas_mismatch['BETA']=-1*meta5_gwas_mismatch['BETA']\n",
    "meta5_gwas_mismatch['FREQ']=1-meta5_gwas_mismatch['FREQ']"
   ]
  },
  {
   "cell_type": "code",
   "execution_count": null,
   "metadata": {},
   "outputs": [],
   "source": [
    "final_meta5_gwas = meta5_gwas_match.append(meta5_gwas_mismatch)\n",
    "\n",
    "print(final_meta5_gwas.shape)\n",
    "print(final_meta5_gwas.head())"
   ]
  },
  {
   "cell_type": "code",
   "execution_count": null,
   "metadata": {},
   "outputs": [],
   "source": [
    "print(final_meta5_gwas.tail())"
   ]
  },
  {
   "cell_type": "code",
   "execution_count": null,
   "metadata": {},
   "outputs": [],
   "source": [
    "final_meta5_gwas['OR'] = np.exp(final_meta5_gwas['BETA'])"
   ]
  },
  {
   "cell_type": "code",
   "execution_count": null,
   "metadata": {},
   "outputs": [],
   "source": [
    "final_meta5_gwas = final_meta5_gwas[['RSID','LOC_NUM','CHR_BP','NEAR_GENE','GWAS','EFFECT_ALLELE','OTHER_ALLELE','FREQ','BETA','OR','P']]\n",
    "final_meta5_gwas.columns = ['RSID','LOC_NUM','CHR_BP','NEAR_GENE','GWAS','EFFECT_ALLELE','OTHER_ALLELE','EFFECT_FREQ_NALLS','BETA_NALLS','OR_NALLS','P_NALLS']"
   ]
  },
  {
   "cell_type": "markdown",
   "metadata": {},
   "source": [
    "### b) Foo et al. 2020 "
   ]
  },
  {
   "cell_type": "code",
   "execution_count": null,
   "metadata": {},
   "outputs": [],
   "source": [
    "asian_gwas = pd.read_csv(f\"{DATADIR}/asiangwas_sumstats_harmonized.csv\")\n",
    "print(asian_gwas.shape)\n",
    "print(asian_gwas.head())\n"
   ]
  },
  {
   "cell_type": "code",
   "execution_count": null,
   "metadata": {},
   "outputs": [],
   "source": [
    "asian_gwas_sub = asian_gwas[['RSID','A1','A2','BETA','FREQ','P']]"
   ]
  },
  {
   "cell_type": "code",
   "execution_count": null,
   "metadata": {},
   "outputs": [],
   "source": [
    "merge_asian_gwas = pd.merge(risk_vars, asian_gwas_sub, how='left', left_on='RSID', right_on='RSID')\n",
    "print(merge_asian_gwas.shape)\n",
    "print(merge_asian_gwas.tail())"
   ]
  },
  {
   "cell_type": "code",
   "execution_count": null,
   "metadata": {},
   "outputs": [],
   "source": [
    "merge_asian_gwas"
   ]
  },
  {
   "cell_type": "markdown",
   "metadata": {},
   "source": [
    "#### now check for the right allele\n",
    "need to look at beta since we don't have freqs, looks like asian gwas A1 should match EFFECT_ALLELE"
   ]
  },
  {
   "cell_type": "code",
   "execution_count": null,
   "metadata": {},
   "outputs": [],
   "source": [
    "asian_gwas_match=merge_asian_gwas[merge_asian_gwas['EFFECT_ALLELE']==merge_asian_gwas['A1']]\n",
    "print(asian_gwas_match.shape)\n",
    "print(asian_gwas_match.head())"
   ]
  },
  {
   "cell_type": "code",
   "execution_count": null,
   "metadata": {},
   "outputs": [],
   "source": [
    "asian_gwas_mismatch=merge_asian_gwas[merge_asian_gwas['EFFECT_ALLELE']!=merge_asian_gwas['A1']]\n",
    "print(asian_gwas_mismatch.shape)\n",
    "print(asian_gwas_mismatch.tail())"
   ]
  },
  {
   "cell_type": "code",
   "execution_count": null,
   "metadata": {},
   "outputs": [],
   "source": [
    "asian_gwas_mismatch['BETA']=-1*asian_gwas_mismatch['BETA']"
   ]
  },
  {
   "cell_type": "code",
   "execution_count": null,
   "metadata": {},
   "outputs": [],
   "source": [
    "final_asian_gwas = asian_gwas_match.append(asian_gwas_mismatch)\n",
    "print(final_asian_gwas.shape)\n",
    "print(final_asian_gwas.head())"
   ]
  },
  {
   "cell_type": "code",
   "execution_count": null,
   "metadata": {},
   "outputs": [],
   "source": [
    "final_asian_gwas['OR'] = np.exp(final_asian_gwas['BETA'])"
   ]
  },
  {
   "cell_type": "code",
   "execution_count": null,
   "metadata": {},
   "outputs": [],
   "source": [
    "final_asian_gwas = final_asian_gwas[['RSID','LOC_NUM','CHR_BP','NEAR_GENE','GWAS','EFFECT_ALLELE','OTHER_ALLELE','FREQ','BETA','OR','P']]\n",
    "final_asian_gwas.columns = ['RSID','LOC_NUM','CHR_BP','NEAR_GENE','GWAS','EFFECT_ALLELE','OTHER_ALLELE','EFFECT_FREQ_FOO','BETA_FOO','OR_FOO','P_FOO']"
   ]
  },
  {
   "cell_type": "markdown",
   "metadata": {},
   "source": [
    "## c) combine"
   ]
  },
  {
   "cell_type": "code",
   "execution_count": null,
   "metadata": {},
   "outputs": [],
   "source": [
    "gwas_stats = pd.merge(left = final_meta5_gwas, right = final_asian_gwas, on = ['RSID','LOC_NUM','CHR_BP','NEAR_GENE','GWAS','EFFECT_ALLELE','OTHER_ALLELE'])\n",
    "print(gwas_stats.shape)\n",
    "print(gwas_stats.head())"
   ]
  },
  {
   "cell_type": "markdown",
   "metadata": {},
   "source": [
    "add progression loci"
   ]
  },
  {
   "cell_type": "code",
   "execution_count": null,
   "metadata": {},
   "outputs": [],
   "source": [
    "gwas_stats = pd.merge(left = gwas_stats, right = prog_loci, on = ['RSID','LOC_NUM','CHR_BP','NEAR_GENE','GWAS','EFFECT_ALLELE','OTHER_ALLELE'], how = 'left')\n",
    "print(gwas_stats.shape)\n",
    "print(gwas_stats.head())\n",
    "print(gwas_stats.tail())"
   ]
  },
  {
   "cell_type": "code",
   "execution_count": null,
   "metadata": {},
   "outputs": [],
   "source": [
    "gwas_stats['OR_IWAKI'] = np.exp(gwas_stats['BETA_IWAKI'])"
   ]
  },
  {
   "cell_type": "code",
   "execution_count": null,
   "metadata": {},
   "outputs": [],
   "source": [
    "gwas_stats[gwas_stats['GWAS']=='Progression']"
   ]
  },
  {
   "cell_type": "markdown",
   "metadata": {},
   "source": [
    "## 3) Get Population Frequencies Using ANNOVAR"
   ]
  },
  {
   "cell_type": "markdown",
   "metadata": {},
   "source": [
    "create ANNOVAR input file"
   ]
  },
  {
   "cell_type": "code",
   "execution_count": null,
   "metadata": {},
   "outputs": [],
   "source": [
    "avinput = risk_vars[['CHR_BP','REF','ALT']]"
   ]
  },
  {
   "cell_type": "code",
   "execution_count": null,
   "metadata": {},
   "outputs": [],
   "source": [
    "split= avinput['CHR_BP'].str.split(\":\",expand = True)\n",
    "avinput['CHR']=split[0]\n",
    "avinput['BP']=split[1]"
   ]
  },
  {
   "cell_type": "code",
   "execution_count": null,
   "metadata": {},
   "outputs": [],
   "source": [
    "avinput = avinput[['CHR','BP','BP','REF','ALT']]\n",
    "print(avinput.shape)\n",
    "print(avinput.head())"
   ]
  },
  {
   "cell_type": "code",
   "execution_count": null,
   "metadata": {},
   "outputs": [],
   "source": [
    "\n",
    "avinput.to_csv(f\"{DATADIR}/gwas_risk_variants.avinput\",index=None,sep=' ')"
   ]
  },
  {
   "cell_type": "markdown",
   "metadata": {},
   "source": [
    "write ANNOVAR script"
   ]
  },
  {
   "cell_type": "code",
   "execution_count": null,
   "metadata": {},
   "outputs": [],
   "source": [
    "with open(f\"{DATADIR}/get_frequencies_annovar.sh\",\"w\") as bash_file:\n",
    "    bash_file.write(f'''#!/bin/bash\\n\\\n",
    "module load annovar\\n\\\n",
    "annotate_variation.pl --filter --build hg19 --dbtype gnomad211_genome --buildver hg19 --otherinfo {DATADIR}/gwas_risk_variants.avinput $ANNOVAR_DATA/hg19''')\n",
    "bash_file.close()"
   ]
  },
  {
   "cell_type": "markdown",
   "metadata": {},
   "source": [
    "run"
   ]
  },
  {
   "cell_type": "code",
   "execution_count": null,
   "metadata": {},
   "outputs": [],
   "source": [
    "print(f\"sbatch {DATADIR}/get_frequencies_annovar.sh\")"
   ]
  },
  {
   "cell_type": "markdown",
   "metadata": {},
   "source": [
    "read"
   ]
  },
  {
   "cell_type": "code",
   "execution_count": null,
   "metadata": {},
   "outputs": [],
   "source": [
    "freqs = pd.read_csv(f\"{DATADIR}/gwas_risk_variants.avinput.hg19_gnomad211_genome_dropped\",sep=\"\\t\",header=None)\n",
    "freqs.columns = ['db','freqs','snp']\n",
    "print(freqs.shape)\n",
    "print(freqs.head())"
   ]
  },
  {
   "cell_type": "markdown",
   "metadata": {},
   "source": [
    "columns:\n",
    "\n",
    "gnomad211_genome: Chr Start End Ref Alt AF AF_popmax AF_male AF_female AF_raw AF_afr AF_sas AF_amr AF_eas AF_nfe AF_fin AF_asj AF_oth non_topmed_AF_popmax non_neuro_AF_popmax non_cancer_AF_popmax controls_AF_popmax"
   ]
  },
  {
   "cell_type": "code",
   "execution_count": null,
   "metadata": {},
   "outputs": [],
   "source": [
    "freqs[['CHR','START','END','REF','ALT']]=freqs.snp.str.split(\" \",expand=True)\n",
    "print(freqs.head())"
   ]
  },
  {
   "cell_type": "code",
   "execution_count": null,
   "metadata": {},
   "outputs": [],
   "source": [
    "freqs[['AF','AF_popmax','AF_male','AF_female','AF_raw','AF_afr','AF_sas','AF_amr','AF_eas','AF_nfe','AF_fin','AF_asj','AF_oth','non_topmed_AF_popmax','non_neuro_AF_popmax','non_cancer_AF_popmax','controls_AF_popmax']]=freqs.freqs.str.split(\",\",expand=True)\n",
    "print(freqs.head())"
   ]
  },
  {
   "cell_type": "code",
   "execution_count": null,
   "metadata": {},
   "outputs": [],
   "source": [
    "freqs['CHR_BP'] = freqs['CHR'].astype(str)+\":\"+freqs['START'].astype(str)\n",
    "freqs = freqs.drop(labels=['freqs','snp','db','CHR','START','END'],axis=1)\n",
    "print(freqs.head())"
   ]
  },
  {
   "cell_type": "markdown",
   "metadata": {},
   "source": [
    "for now only want nfe, eas, and afr\n"
   ]
  },
  {
   "cell_type": "code",
   "execution_count": null,
   "metadata": {},
   "outputs": [],
   "source": [
    "freqs = freqs[['CHR_BP','REF','ALT','AF_nfe','AF_eas','AF_afr']]\n",
    "print(freqs.head())"
   ]
  },
  {
   "cell_type": "markdown",
   "metadata": {},
   "source": [
    "now compare alleles to make sure we are using the right frequencies"
   ]
  },
  {
   "cell_type": "code",
   "execution_count": null,
   "metadata": {},
   "outputs": [],
   "source": [
    "merged = pd.merge(gwas_stats, freqs, left_on = 'CHR_BP', right_on = 'CHR_BP',how = 'inner')\n",
    "print(merged.shape)"
   ]
  },
  {
   "cell_type": "code",
   "execution_count": null,
   "metadata": {},
   "outputs": [],
   "source": [
    "merged.head()"
   ]
  },
  {
   "cell_type": "code",
   "execution_count": null,
   "metadata": {},
   "outputs": [],
   "source": [
    "merged.tail()"
   ]
  },
  {
   "cell_type": "markdown",
   "metadata": {},
   "source": [
    "looks like EFFECT_ALLELE should match ALT"
   ]
  },
  {
   "cell_type": "code",
   "execution_count": null,
   "metadata": {},
   "outputs": [],
   "source": [
    "match=merged[merged['EFFECT_ALLELE']==merged['ALT_y'].str.upper()]\n",
    "print(match.shape)\n",
    "print(match.head())"
   ]
  },
  {
   "cell_type": "code",
   "execution_count": null,
   "metadata": {},
   "outputs": [],
   "source": [
    "mismatch=merged[merged['EFFECT_ALLELE']!=merged['ALT_y'].str.upper()]\n",
    "print(mismatch.shape)\n",
    "print(mismatch.head())"
   ]
  },
  {
   "cell_type": "code",
   "execution_count": null,
   "metadata": {},
   "outputs": [],
   "source": [
    "mismatch['AF_nfe']=1-mismatch['AF_nfe'].astype(float)\n",
    "mismatch['AF_eas']=1-mismatch['AF_eas'].astype(float)\n",
    "mismatch['AF_afr']=1-mismatch['AF_afr'].astype(float)"
   ]
  },
  {
   "cell_type": "code",
   "execution_count": null,
   "metadata": {},
   "outputs": [],
   "source": [
    "final_pop_freqs = match.append(mismatch)"
   ]
  },
  {
   "cell_type": "code",
   "execution_count": null,
   "metadata": {},
   "outputs": [],
   "source": [
    "final_pop_freqs = final_pop_freqs.drop(labels=['REF_y','ALT_y','REF_x','ALT_x'],axis=1)"
   ]
  },
  {
   "cell_type": "code",
   "execution_count": null,
   "metadata": {},
   "outputs": [],
   "source": [
    "print(final_pop_freqs.shape)\n",
    "print(final_pop_freqs.head())\n",
    "print(final_pop_freqs.tail())"
   ]
  },
  {
   "cell_type": "markdown",
   "metadata": {},
   "source": [
    "## 4) Make P_GWAS Column\n",
    "P_GWAS column will contain the P value for the variant from the GWAS it is from. That way we can use this column as the p value to display in the plot."
   ]
  },
  {
   "cell_type": "code",
   "execution_count": null,
   "metadata": {},
   "outputs": [],
   "source": [
    "final_pop_freqs['P_GWAS']=0"
   ]
  },
  {
   "cell_type": "code",
   "execution_count": null,
   "metadata": {},
   "outputs": [],
   "source": [
    "final_pop_freqs.loc[final_pop_freqs['GWAS']=='META5','P_GWAS'] = final_pop_freqs.loc[final_pop_freqs['GWAS']=='META5','P_NALLS']\n",
    "final_pop_freqs.loc[final_pop_freqs['GWAS']=='Asian','P_GWAS'] = final_pop_freqs.loc[final_pop_freqs['GWAS']=='Asian','P_FOO']\n",
    "final_pop_freqs.loc[final_pop_freqs['GWAS']=='Progression','P_GWAS'] = final_pop_freqs.loc[final_pop_freqs['GWAS']=='Progression','P_IWAKI']"
   ]
  },
  {
   "cell_type": "code",
   "execution_count": null,
   "metadata": {},
   "outputs": [],
   "source": [
    "final_pop_freqs.to_csv(f\"/path/to/app/PDLandscapePlot/www/risk_variant_data.csv\",index=None)\n"
   ]
  },
  {
   "cell_type": "markdown",
   "metadata": {},
   "source": [
    "## 5) Make GWAS_ref Column\n",
    "to store text for the GWAS to be displayed\n"
   ]
  },
  {
   "cell_type": "code",
   "execution_count": null,
   "metadata": {},
   "outputs": [],
   "source": [
    "final_pop_freqs['GWAS_ref']=''"
   ]
  },
  {
   "cell_type": "code",
   "execution_count": null,
   "metadata": {},
   "outputs": [],
   "source": [
    "final_pop_freqs.loc[final_pop_freqs['GWAS']=='META5','GWAS_ref'] = \"Nalls et al. 2019\"\n",
    "final_pop_freqs.loc[final_pop_freqs['GWAS']=='Asian','GWAS_ref'] = \"Foo et al. 2020\"\n",
    "final_pop_freqs.loc[final_pop_freqs['GWAS']=='Progression','GWAS_ref'] = \"Iwaki et al. 2019\""
   ]
  },
  {
   "cell_type": "code",
   "execution_count": null,
   "metadata": {},
   "outputs": [],
   "source": [
    "final_pop_freqs.to_csv(f\"/path/to/app/PDLandscapePlot/www/risk_variant_data.csv\",index=None)"
   ]
  },
  {
   "cell_type": "code",
   "execution_count": null,
   "metadata": {},
   "outputs": [],
   "source": []
  }
 ],
 "metadata": {
  "kernelspec": {
   "display_name": "Python 3",
   "language": "python",
   "name": "python3"
  },
  "language_info": {
   "codemirror_mode": {
    "name": "ipython",
    "version": 3
   },
   "file_extension": ".py",
   "mimetype": "text/x-python",
   "name": "python",
   "nbconvert_exporter": "python",
   "pygments_lexer": "ipython3",
   "version": "3.7.3"
  }
 },
 "nbformat": 4,
 "nbformat_minor": 4
}
